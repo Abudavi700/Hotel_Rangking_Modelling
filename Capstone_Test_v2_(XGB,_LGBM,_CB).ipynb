{
 "cells": [
  {
   "cell_type": "markdown",
   "metadata": {
    "id": "viC_eDWwyt3v"
   },
   "source": [
    "## Learning to Rank\n",
    "\n",
    "Pointwise: One instance of the set is considered at a time, use any kind of classifier or regressor to predict how relevant it is in the current query. Use each points predicted relevance to order the set.\n",
    "\n",
    "Pairwise: A pair of instances is chosen and the order of those two is predicted. Repeat this for each pair of the query to find the final order of the entire query.\n",
    "\n",
    "Listwise: Many or all instances are considered at once. Try to find the optimal order."
   ]
  },
  {
   "cell_type": "markdown",
   "metadata": {
    "id": "PxYT1wympZXH"
   },
   "source": [
    "- https://www.kaggle.com/code/prashant111/lightgbm-classifier-in-python\n",
    "- https://www.kaggle.com/code/samratp/lightgbm-xgboost-catboost\n",
    "- https://developer.nvidia.com/blog/learning-to-rank-with-xgboost-and-gpu/#:~:text=XGBoost%20is%20a%20widely%20used,descent%20using%20an%20objective%20function.\n",
    "- https://medium.com/predictly-on-tech/learning-to-rank-using-xgboost-83de0166229d"
   ]
  },
  {
   "cell_type": "code",
   "execution_count": null,
   "metadata": {
    "colab": {
     "base_uri": "https://localhost:8080/"
    },
    "id": "RDXuWhktQRs_",
    "outputId": "e56ee7a8-c717-4bad-bd63-846c11cefdee"
   },
   "outputs": [],
   "source": [
    "pip install tensorflow"
   ]
  },
  {
   "cell_type": "code",
   "execution_count": null,
   "metadata": {
    "id": "znIW0iF4slqe"
   },
   "outputs": [],
   "source": [
    "import pandas as pd\n",
    "import numpy as np\n",
    "\n",
    "from sklearn import model_selection\n",
    "from sklearn.model_selection import train_test_split\n",
    "from sklearn.preprocessing import RobustScaler\n",
    "from sklearn.metrics import mean_absolute_error\n",
    "\n",
    "import lightgbm as lgb\n",
    "import xgboost as xgb\n",
    "from catboost import CatBoostRegressor\n",
    "\n",
    "import tensorflow as tf\n",
    "from tensorflow import keras\n",
    "from tensorflow.keras import layers\n",
    "from tensorflow.keras import regularizers\n",
    "\n",
    "import matplotlib.pyplot as plt\n",
    "import seaborn as sns"
   ]
  },
  {
   "cell_type": "markdown",
   "metadata": {
    "id": "ROB3AoMuy3p1"
   },
   "source": [
    "# Data Preparation (Pre-processing)"
   ]
  },
  {
   "cell_type": "code",
   "execution_count": 45,
   "metadata": {
    "colab": {
     "base_uri": "https://localhost:8080/",
     "height": 206
    },
    "id": "jDVedx--yzk3",
    "outputId": "4b04bbb2-a539-4f8a-b090-e6c947974696"
   },
   "outputs": [],
   "source": [
    "import pandas as pd\n",
    "\n",
    "df = pd.read_csv('https://storage.googleapis.com/data-hotel/list-hotel/Data%20API.csv')\n",
    "df.head()\n",
    "#Buat salinan data yang friendly untuk ditampilkan di mobile\n",
    "df_cp = df.copy()"
   ]
  },
  {
   "cell_type": "code",
   "execution_count": 46,
   "metadata": {},
   "outputs": [],
   "source": [
    "df2 = pd.read_csv('https://storage.googleapis.com/data-hotel/list-hotel/Data%20API.csv')\n"
   ]
  },
  {
   "cell_type": "code",
   "execution_count": 47,
   "metadata": {},
   "outputs": [
    {
     "data": {
      "text/plain": [
       "Index(['id', 'hotel', 'star', 'rating', 'reviews', 'harga', 'places_nearby',\n",
       "       'facil_+_akomod', 'food_and_drinks_list', 'hotel_services_list',\n",
       "       'in-room_facilities_list', 'business_facilities_list',\n",
       "       'nearby_facilities_list', 'public_facilities_list', 'general_list',\n",
       "       'things_to_do_list', 'accessibilty_list', 'connectivity_list',\n",
       "       'transportation_list', 'kids_and_pets_list',\n",
       "       'sports_and_recreations_list', 'shuttle_service_list', 'description'],\n",
       "      dtype='object')"
      ]
     },
     "execution_count": 47,
     "metadata": {},
     "output_type": "execute_result"
    }
   ],
   "source": [
    "df.columns"
   ]
  },
  {
   "cell_type": "code",
   "execution_count": 48,
   "metadata": {},
   "outputs": [
    {
     "data": {
      "text/plain": [
       "Index(['food_and_drinks_list', 'hotel_services_list',\n",
       "       'in-room_facilities_list', 'business_facilities_list',\n",
       "       'nearby_facilities_list', 'public_facilities_list', 'general_list',\n",
       "       'things_to_do_list', 'accessibilty_list', 'connectivity_list',\n",
       "       'transportation_list', 'kids_and_pets_list',\n",
       "       'sports_and_recreations_list', 'shuttle_service_list'],\n",
       "      dtype='object')"
      ]
     },
     "execution_count": 48,
     "metadata": {},
     "output_type": "execute_result"
    }
   ],
   "source": [
    "facilities_output = df2.columns[8:22]\n",
    "len(facilities_output)\n",
    "facilities_output"
   ]
  },
  {
   "cell_type": "code",
   "execution_count": 53,
   "metadata": {},
   "outputs": [
    {
     "data": {
      "text/plain": [
       "89"
      ]
     },
     "execution_count": 53,
     "metadata": {},
     "output_type": "execute_result"
    }
   ],
   "source": [
    "facilities_columns = ['Food and Drinks','Hotel Services','In-room Facilities', 'Business Facilities', 'Nearby Facilities',\n",
    "                      'Public Facilities', 'General', 'Things to Do', 'Accessibilty', 'Connectivity', 'Transportation',\n",
    "                      'Kids and Pets', 'Sports and Recreations', 'Shuttle Service']\n",
    "ind = []\n",
    "for i in range(len(df)):\n",
    "    list_subfacil = {}\n",
    "    facils = df['facil_+_akomod'][i].splitlines()\n",
    "    facils = [facil for facil in facils if facil != '']\n",
    "    \n",
    "        \n",
    "    for facil in list_subfacil:\n",
    "        if facil not in facils:\n",
    "            list_subfacil[facil] = []\n",
    "    \n",
    "\n",
    "    for facil in facils:     \n",
    "        if facil in facilities_columns:\n",
    "            main_facil = facil\n",
    "            list_subfacil[main_facil] = []\n",
    "        else:\n",
    "            try:\n",
    "                list_subfacil[main_facil] += [facil]\n",
    "            except:\n",
    "                pass\n",
    "    ind.append(list_subfacil)\n",
    "\n",
    "len(ind)"
   ]
  },
  {
   "cell_type": "code",
   "execution_count": 54,
   "metadata": {},
   "outputs": [],
   "source": [
    "for index, facil in enumerate(ind):\n",
    "    for key, value in facil.items():\n",
    "        key2 = key.lower().split()\n",
    "        key2 = '_'.join(key2)\n",
    "        df.at[index, \"{}_list\".format(key2)] = '\\n'.join(value)"
   ]
  },
  {
   "cell_type": "code",
   "execution_count": 55,
   "metadata": {
    "scrolled": true
   },
   "outputs": [
    {
     "data": {
      "text/html": [
       "<div>\n",
       "<style scoped>\n",
       "    .dataframe tbody tr th:only-of-type {\n",
       "        vertical-align: middle;\n",
       "    }\n",
       "\n",
       "    .dataframe tbody tr th {\n",
       "        vertical-align: top;\n",
       "    }\n",
       "\n",
       "    .dataframe thead th {\n",
       "        text-align: right;\n",
       "    }\n",
       "</style>\n",
       "<table border=\"1\" class=\"dataframe\">\n",
       "  <thead>\n",
       "    <tr style=\"text-align: right;\">\n",
       "      <th></th>\n",
       "      <th>id</th>\n",
       "      <th>hotel</th>\n",
       "      <th>star</th>\n",
       "      <th>rating</th>\n",
       "      <th>reviews</th>\n",
       "      <th>harga</th>\n",
       "      <th>places_nearby</th>\n",
       "      <th>facil_+_akomod</th>\n",
       "      <th>food_and_drinks_list</th>\n",
       "      <th>hotel_services_list</th>\n",
       "      <th>...</th>\n",
       "      <th>public_facilities_list</th>\n",
       "      <th>general_list</th>\n",
       "      <th>things_to_do_list</th>\n",
       "      <th>accessibilty_list</th>\n",
       "      <th>connectivity_list</th>\n",
       "      <th>transportation_list</th>\n",
       "      <th>kids_and_pets_list</th>\n",
       "      <th>sports_and_recreations_list</th>\n",
       "      <th>shuttle_service_list</th>\n",
       "      <th>description</th>\n",
       "    </tr>\n",
       "  </thead>\n",
       "  <tbody>\n",
       "    <tr>\n",
       "      <th>0</th>\n",
       "      <td>0</td>\n",
       "      <td>Hotel Indonesia Kempinski Jakarta</td>\n",
       "      <td>5.0</td>\n",
       "      <td>8.9</td>\n",
       "      <td>4363</td>\n",
       "      <td>2.480.500</td>\n",
       "      <td>Nearby Places\\n\\nJia Jia - Grand Indonesia (De...</td>\n",
       "      <td>Food and Drinks\\nA la carte breakfast\\nA la ca...</td>\n",
       "      <td>A la carte breakfast\\nA la carte dinner\\nA la ...</td>\n",
       "      <td>Bellhop\\nConcierge\\nDoorman\\nExpress check-in\\...</td>\n",
       "      <td>...</td>\n",
       "      <td>Parking\\nCoffee shop\\nElevator\\n24-hour room s...</td>\n",
       "      <td>AC\\nBallroom\\nBanquet\\nConnecting rooms\\nNon-s...</td>\n",
       "      <td>Fitness center\\nHealth club\\nMassage\\nOutdoor ...</td>\n",
       "      <td>Accessible bathroom\\nAccessible parking\\nRoll-...</td>\n",
       "      <td>INTERNATIONAL_CALL\\nFree WiFi\\nWiFi (surcharge)</td>\n",
       "      <td>Car rental\\nValet parking (surcharge)</td>\n",
       "      <td>CRIBS\\nHighchairs</td>\n",
       "      <td>Fitness center</td>\n",
       "      <td>Airport transfer (surcharge)</td>\n",
       "      <td>This Hotel offers ultimate comfort and luxury....</td>\n",
       "    </tr>\n",
       "    <tr>\n",
       "      <th>1</th>\n",
       "      <td>1</td>\n",
       "      <td>The Langham, Jakarta</td>\n",
       "      <td>5.0</td>\n",
       "      <td>8.8</td>\n",
       "      <td>238</td>\n",
       "      <td>3.823.600</td>\n",
       "      <td>Nearby Places\\n\\nPig Me Up! - Ashta District 8...</td>\n",
       "      <td>Food and Drinks\\nA la carte dinner\\nA la carte...</td>\n",
       "      <td>A la carte dinner\\nA la carte lunch\\nBar\\nBrea...</td>\n",
       "      <td>Bellhop\\nConcierge\\nDoorman\\nFront desk\\n24-ho...</td>\n",
       "      <td>...</td>\n",
       "      <td>Coffee/tea in lobby\\nCoffee shop\\nElevator\\nRe...</td>\n",
       "      <td>AC\\nBallroom\\nBanquet\\nNon-smoking room\\nSwimm...</td>\n",
       "      <td>Fitness center\\nHealth club\\nIndoor pool\\nOutd...</td>\n",
       "      <td>NaN</td>\n",
       "      <td>Free WiFi</td>\n",
       "      <td>Secure parking\\nValet parking</td>\n",
       "      <td>CRIBS</td>\n",
       "      <td>Fitness center</td>\n",
       "      <td>NaN</td>\n",
       "      <td>This Hotel offers ultimate comfort and luxury....</td>\n",
       "    </tr>\n",
       "    <tr>\n",
       "      <th>2</th>\n",
       "      <td>2</td>\n",
       "      <td>Manhattan Hotel</td>\n",
       "      <td>5.0</td>\n",
       "      <td>8.5</td>\n",
       "      <td>8405</td>\n",
       "      <td>6.231.500</td>\n",
       "      <td>Nearby Places\\n\\nJia Jia - Grand Indonesia (De...</td>\n",
       "      <td>Hotel Services\\nBellhop\\nConcierge\\nMoney chan...</td>\n",
       "      <td>A la carte dinner\\nA la carte lunch\\nRestauran...</td>\n",
       "      <td>Bellhop\\nConcierge\\nMoney changer\\nDoorman\\nEa...</td>\n",
       "      <td>...</td>\n",
       "      <td>Parking\\nCoffee/tea in lobby\\nCoffee shop\\nEar...</td>\n",
       "      <td>AC\\nBallroom\\nBanquet\\nConnecting rooms\\nFamil...</td>\n",
       "      <td>Fitness center\\nOutdoor pool</td>\n",
       "      <td>Disabled access friendly\\nAccessible bathroom\\...</td>\n",
       "      <td>INTERNATIONAL_CALL\\nLAN Internet (surcharge)\\n...</td>\n",
       "      <td>Area shuttle\\nParking with surcharge\\nSecure p...</td>\n",
       "      <td>Babysitting</td>\n",
       "      <td>Fitness center</td>\n",
       "      <td>Airport transfer (surcharge)</td>\n",
       "      <td>This Hotel offers ultimate comfort and luxury....</td>\n",
       "    </tr>\n",
       "    <tr>\n",
       "      <th>3</th>\n",
       "      <td>3</td>\n",
       "      <td>Aloft South Jakarta</td>\n",
       "      <td>4.0</td>\n",
       "      <td>8.9</td>\n",
       "      <td>424</td>\n",
       "      <td>762.3</td>\n",
       "      <td>Nearby Places\\n\\nSouthside Rooftop Bar &amp; Loung...</td>\n",
       "      <td>Public Facilities\\nParking\\nCoffee shop\\nEleva...</td>\n",
       "      <td>Bar\\nPoolside bar\\nBar</td>\n",
       "      <td>24-hour Receptionist\\nLaundry service\\nLuggage...</td>\n",
       "      <td>...</td>\n",
       "      <td>Parking\\nCoffee shop\\nElevator\\nRestaurant\\nRo...</td>\n",
       "      <td>NaN</td>\n",
       "      <td>Fitness center\\nGarden\\nOutdoor pool</td>\n",
       "      <td>Disabled access friendly</td>\n",
       "      <td>NaN</td>\n",
       "      <td>Car rental</td>\n",
       "      <td>NaN</td>\n",
       "      <td>Billiard</td>\n",
       "      <td>NaN</td>\n",
       "      <td>This Hotel offers ultimate comfort and luxury....</td>\n",
       "    </tr>\n",
       "    <tr>\n",
       "      <th>4</th>\n",
       "      <td>4</td>\n",
       "      <td>The Mayflower, Jakarta - Marriott Executive Ap...</td>\n",
       "      <td>5.0</td>\n",
       "      <td>9.0</td>\n",
       "      <td>393</td>\n",
       "      <td>1.756.254</td>\n",
       "      <td>Nearby Places\\n\\nSudirman Plaza\\nBusiness\\n2 m...</td>\n",
       "      <td>Food and Drinks\\nA la carte breakfast\\nA la ca...</td>\n",
       "      <td>A la carte breakfast\\nA la carte dinner\\nA la ...</td>\n",
       "      <td>Welcoming drinks\\nConcierge\\nMoney changer\\nDo...</td>\n",
       "      <td>...</td>\n",
       "      <td>Parking\\nCoffee shop\\nElevator\\n24-hour room s...</td>\n",
       "      <td>AC\\nFamily room\\nNon-smoking room\\nSwimming po...</td>\n",
       "      <td>Fitness center\\nHealth club\\nHot tub\\nIndoor h...</td>\n",
       "      <td>NaN</td>\n",
       "      <td>Free WiFi</td>\n",
       "      <td>Airport transfer\\nCar rental\\nSecure parking\\n...</td>\n",
       "      <td>CRIBS\\nHighchairs\\nFamily-friendly Facilities\\...</td>\n",
       "      <td>Fitness center</td>\n",
       "      <td>Airport transfer (surcharge)</td>\n",
       "      <td>This Hotel offers ultimate comfort and luxury....</td>\n",
       "    </tr>\n",
       "    <tr>\n",
       "      <th>...</th>\n",
       "      <td>...</td>\n",
       "      <td>...</td>\n",
       "      <td>...</td>\n",
       "      <td>...</td>\n",
       "      <td>...</td>\n",
       "      <td>...</td>\n",
       "      <td>...</td>\n",
       "      <td>...</td>\n",
       "      <td>...</td>\n",
       "      <td>...</td>\n",
       "      <td>...</td>\n",
       "      <td>...</td>\n",
       "      <td>...</td>\n",
       "      <td>...</td>\n",
       "      <td>...</td>\n",
       "      <td>...</td>\n",
       "      <td>...</td>\n",
       "      <td>...</td>\n",
       "      <td>...</td>\n",
       "      <td>...</td>\n",
       "      <td>...</td>\n",
       "    </tr>\n",
       "    <tr>\n",
       "      <th>84</th>\n",
       "      <td>84</td>\n",
       "      <td>POP! Hotel Airport Jakarta</td>\n",
       "      <td>2.0</td>\n",
       "      <td>7.9</td>\n",
       "      <td>11026</td>\n",
       "      <td>385.200,00</td>\n",
       "      <td>Nearby Places\\r\\n\\r\\nsTREATs Restaurant - Ibis...</td>\n",
       "      <td>Hotel Services\\r\\nBellhop\\r\\n24-hour security\\...</td>\n",
       "      <td>NaN</td>\n",
       "      <td>Bellhop\\n24-hour security\\nLuggage storage\\nMu...</td>\n",
       "      <td>...</td>\n",
       "      <td>Parking\\nElevator\\nSafety deposit box\\nWiFi in...</td>\n",
       "      <td>AC\\nNon-smoking room\\nSmoking area</td>\n",
       "      <td>Garden</td>\n",
       "      <td>Wheelchair accessible</td>\n",
       "      <td>Free WiFi</td>\n",
       "      <td>Airport transfer\\nCar rental</td>\n",
       "      <td>NaN</td>\n",
       "      <td>NaN</td>\n",
       "      <td>Airport transfer</td>\n",
       "      <td>This Hotel offers ultimate comfort and luxury....</td>\n",
       "    </tr>\n",
       "    <tr>\n",
       "      <th>85</th>\n",
       "      <td>85</td>\n",
       "      <td>Sheraton Grand Jakarta Gandaria City Hotel</td>\n",
       "      <td>5.0</td>\n",
       "      <td>8.9</td>\n",
       "      <td>1511</td>\n",
       "      <td>2.420.000,00</td>\n",
       "      <td>Nearby Places\\r\\n\\r\\nAnigre at Sheraton Gandar...</td>\n",
       "      <td>Food and Drinks\\r\\nA la carte breakfast\\r\\nA l...</td>\n",
       "      <td>A la carte breakfast\\nA la carte dinner\\nA la ...</td>\n",
       "      <td>Bellhop\\nWelcoming drinks\\nConcierge\\nEarly Ch...</td>\n",
       "      <td>...</td>\n",
       "      <td>Parking\\nCoffee/tea in lobby\\nCoffee shop\\nEar...</td>\n",
       "      <td>AC\\nBallroom\\nBanquet\\nConnecting rooms\\nSwimm...</td>\n",
       "      <td>Outdoor pool</td>\n",
       "      <td>Disabled access friendly\\nAccessible bathroom\\...</td>\n",
       "      <td>Free WiFi</td>\n",
       "      <td>Airport transfer\\nCar rental\\nLimo or town car...</td>\n",
       "      <td>NaN</td>\n",
       "      <td>NaN</td>\n",
       "      <td>Airport transfer (surcharge)</td>\n",
       "      <td>This Hotel offers ultimate comfort and luxury....</td>\n",
       "    </tr>\n",
       "    <tr>\n",
       "      <th>86</th>\n",
       "      <td>86</td>\n",
       "      <td>Horison Suites &amp; Residences Rasuna Jakarta</td>\n",
       "      <td>4.0</td>\n",
       "      <td>7.8</td>\n",
       "      <td>517</td>\n",
       "      <td>688.000,00</td>\n",
       "      <td>Nearby Places\\r\\n\\r\\nMeZZa Restaurant at Aston...</td>\n",
       "      <td>General\\r\\nAC\\r\\nBallroom\\r\\nBanquet\\r\\nFamily...</td>\n",
       "      <td>Breakfast\\nCafe</td>\n",
       "      <td>Front desk\\n24-hour Receptionist\\nLaundry service</td>\n",
       "      <td>...</td>\n",
       "      <td>Coffee shop\\nRestaurant\\nSafety deposit box\\nW...</td>\n",
       "      <td>AC\\nBallroom\\nBanquet\\nFamily room\\nNon-smokin...</td>\n",
       "      <td>NaN</td>\n",
       "      <td>NaN</td>\n",
       "      <td>Free WiFi</td>\n",
       "      <td>NaN</td>\n",
       "      <td>NaN</td>\n",
       "      <td>NaN</td>\n",
       "      <td>NaN</td>\n",
       "      <td>This Hotel offers ultimate comfort and luxury....</td>\n",
       "    </tr>\n",
       "    <tr>\n",
       "      <th>87</th>\n",
       "      <td>87</td>\n",
       "      <td>grandkemang Hotel</td>\n",
       "      <td>4.0</td>\n",
       "      <td>8.4</td>\n",
       "      <td>2717</td>\n",
       "      <td>431.250,00</td>\n",
       "      <td>Nearby Places\\r\\n\\r\\nSparca Lounge at grandkem...</td>\n",
       "      <td>Food and Drinks\\r\\nA la carte dinner\\r\\nA la c...</td>\n",
       "      <td>A la carte dinner\\nA la carte lunch\\nBar\\nBrea...</td>\n",
       "      <td>Bellhop\\nConcierge\\nMoney changer\\nDoorman\\n24...</td>\n",
       "      <td>...</td>\n",
       "      <td>Parking\\nCoffee shop\\nElevator\\n24-hour room s...</td>\n",
       "      <td>AC\\nBallroom\\nBanquet\\nConnecting rooms\\nSwimm...</td>\n",
       "      <td>Fitness center\\nOutdoor pool</td>\n",
       "      <td>Wheelchair accessible</td>\n",
       "      <td>LAN Internet\\nFree WiFi</td>\n",
       "      <td>Car rental\\nSecure parking\\nValet parking</td>\n",
       "      <td>NaN</td>\n",
       "      <td>Fitness center</td>\n",
       "      <td>Airport transfer (surcharge)</td>\n",
       "      <td>This Hotel offers ultimate comfort and luxury....</td>\n",
       "    </tr>\n",
       "    <tr>\n",
       "      <th>88</th>\n",
       "      <td>88</td>\n",
       "      <td>favehotel Melawai</td>\n",
       "      <td>2.0</td>\n",
       "      <td>8.3</td>\n",
       "      <td>8445</td>\n",
       "      <td>446.400,00</td>\n",
       "      <td>Nearby Places\\r\\n\\r\\nAH Resto Cafe - Melawai\\r...</td>\n",
       "      <td>Nearby Facilities\\r\\nATM/Banking\\r\\nBeauty sal...</td>\n",
       "      <td>NaN</td>\n",
       "      <td>Bellhop\\n24-hour security\\nLaundry service\\nLu...</td>\n",
       "      <td>...</td>\n",
       "      <td>Parking\\nCoffee shop\\nElevator\\nRestaurant\\nRo...</td>\n",
       "      <td>AC\\nBanquet\\nConnecting rooms\\nNon-smoking roo...</td>\n",
       "      <td>NaN</td>\n",
       "      <td>Wheelchair accessible</td>\n",
       "      <td>Free WiFi</td>\n",
       "      <td>NaN</td>\n",
       "      <td>NaN</td>\n",
       "      <td>NaN</td>\n",
       "      <td>Airport transfer (surcharge)</td>\n",
       "      <td>This Hotel offers ultimate comfort and luxury....</td>\n",
       "    </tr>\n",
       "  </tbody>\n",
       "</table>\n",
       "<p>89 rows × 23 columns</p>\n",
       "</div>"
      ],
      "text/plain": [
       "    id                                              hotel  star  rating  \\\n",
       "0    0                  Hotel Indonesia Kempinski Jakarta   5.0     8.9   \n",
       "1    1                               The Langham, Jakarta   5.0     8.8   \n",
       "2    2                                    Manhattan Hotel   5.0     8.5   \n",
       "3    3                                Aloft South Jakarta   4.0     8.9   \n",
       "4    4  The Mayflower, Jakarta - Marriott Executive Ap...   5.0     9.0   \n",
       "..  ..                                                ...   ...     ...   \n",
       "84  84                         POP! Hotel Airport Jakarta   2.0     7.9   \n",
       "85  85         Sheraton Grand Jakarta Gandaria City Hotel   5.0     8.9   \n",
       "86  86         Horison Suites & Residences Rasuna Jakarta   4.0     7.8   \n",
       "87  87                                  grandkemang Hotel   4.0     8.4   \n",
       "88  88                                  favehotel Melawai   2.0     8.3   \n",
       "\n",
       "   reviews         harga                                      places_nearby  \\\n",
       "0     4363     2.480.500  Nearby Places\\n\\nJia Jia - Grand Indonesia (De...   \n",
       "1      238     3.823.600  Nearby Places\\n\\nPig Me Up! - Ashta District 8...   \n",
       "2     8405     6.231.500  Nearby Places\\n\\nJia Jia - Grand Indonesia (De...   \n",
       "3      424         762.3  Nearby Places\\n\\nSouthside Rooftop Bar & Loung...   \n",
       "4      393     1.756.254  Nearby Places\\n\\nSudirman Plaza\\nBusiness\\n2 m...   \n",
       "..     ...           ...                                                ...   \n",
       "84   11026    385.200,00  Nearby Places\\r\\n\\r\\nsTREATs Restaurant - Ibis...   \n",
       "85    1511  2.420.000,00  Nearby Places\\r\\n\\r\\nAnigre at Sheraton Gandar...   \n",
       "86     517    688.000,00  Nearby Places\\r\\n\\r\\nMeZZa Restaurant at Aston...   \n",
       "87    2717    431.250,00  Nearby Places\\r\\n\\r\\nSparca Lounge at grandkem...   \n",
       "88    8445    446.400,00  Nearby Places\\r\\n\\r\\nAH Resto Cafe - Melawai\\r...   \n",
       "\n",
       "                                       facil_+_akomod  \\\n",
       "0   Food and Drinks\\nA la carte breakfast\\nA la ca...   \n",
       "1   Food and Drinks\\nA la carte dinner\\nA la carte...   \n",
       "2   Hotel Services\\nBellhop\\nConcierge\\nMoney chan...   \n",
       "3   Public Facilities\\nParking\\nCoffee shop\\nEleva...   \n",
       "4   Food and Drinks\\nA la carte breakfast\\nA la ca...   \n",
       "..                                                ...   \n",
       "84  Hotel Services\\r\\nBellhop\\r\\n24-hour security\\...   \n",
       "85  Food and Drinks\\r\\nA la carte breakfast\\r\\nA l...   \n",
       "86  General\\r\\nAC\\r\\nBallroom\\r\\nBanquet\\r\\nFamily...   \n",
       "87  Food and Drinks\\r\\nA la carte dinner\\r\\nA la c...   \n",
       "88  Nearby Facilities\\r\\nATM/Banking\\r\\nBeauty sal...   \n",
       "\n",
       "                                 food_and_drinks_list  \\\n",
       "0   A la carte breakfast\\nA la carte dinner\\nA la ...   \n",
       "1   A la carte dinner\\nA la carte lunch\\nBar\\nBrea...   \n",
       "2   A la carte dinner\\nA la carte lunch\\nRestauran...   \n",
       "3                              Bar\\nPoolside bar\\nBar   \n",
       "4   A la carte breakfast\\nA la carte dinner\\nA la ...   \n",
       "..                                                ...   \n",
       "84                                                NaN   \n",
       "85  A la carte breakfast\\nA la carte dinner\\nA la ...   \n",
       "86                                    Breakfast\\nCafe   \n",
       "87  A la carte dinner\\nA la carte lunch\\nBar\\nBrea...   \n",
       "88                                                NaN   \n",
       "\n",
       "                                  hotel_services_list  ...  \\\n",
       "0   Bellhop\\nConcierge\\nDoorman\\nExpress check-in\\...  ...   \n",
       "1   Bellhop\\nConcierge\\nDoorman\\nFront desk\\n24-ho...  ...   \n",
       "2   Bellhop\\nConcierge\\nMoney changer\\nDoorman\\nEa...  ...   \n",
       "3   24-hour Receptionist\\nLaundry service\\nLuggage...  ...   \n",
       "4   Welcoming drinks\\nConcierge\\nMoney changer\\nDo...  ...   \n",
       "..                                                ...  ...   \n",
       "84  Bellhop\\n24-hour security\\nLuggage storage\\nMu...  ...   \n",
       "85  Bellhop\\nWelcoming drinks\\nConcierge\\nEarly Ch...  ...   \n",
       "86  Front desk\\n24-hour Receptionist\\nLaundry service  ...   \n",
       "87  Bellhop\\nConcierge\\nMoney changer\\nDoorman\\n24...  ...   \n",
       "88  Bellhop\\n24-hour security\\nLaundry service\\nLu...  ...   \n",
       "\n",
       "                               public_facilities_list  \\\n",
       "0   Parking\\nCoffee shop\\nElevator\\n24-hour room s...   \n",
       "1   Coffee/tea in lobby\\nCoffee shop\\nElevator\\nRe...   \n",
       "2   Parking\\nCoffee/tea in lobby\\nCoffee shop\\nEar...   \n",
       "3   Parking\\nCoffee shop\\nElevator\\nRestaurant\\nRo...   \n",
       "4   Parking\\nCoffee shop\\nElevator\\n24-hour room s...   \n",
       "..                                                ...   \n",
       "84  Parking\\nElevator\\nSafety deposit box\\nWiFi in...   \n",
       "85  Parking\\nCoffee/tea in lobby\\nCoffee shop\\nEar...   \n",
       "86  Coffee shop\\nRestaurant\\nSafety deposit box\\nW...   \n",
       "87  Parking\\nCoffee shop\\nElevator\\n24-hour room s...   \n",
       "88  Parking\\nCoffee shop\\nElevator\\nRestaurant\\nRo...   \n",
       "\n",
       "                                         general_list  \\\n",
       "0   AC\\nBallroom\\nBanquet\\nConnecting rooms\\nNon-s...   \n",
       "1   AC\\nBallroom\\nBanquet\\nNon-smoking room\\nSwimm...   \n",
       "2   AC\\nBallroom\\nBanquet\\nConnecting rooms\\nFamil...   \n",
       "3                                                 NaN   \n",
       "4   AC\\nFamily room\\nNon-smoking room\\nSwimming po...   \n",
       "..                                                ...   \n",
       "84                 AC\\nNon-smoking room\\nSmoking area   \n",
       "85  AC\\nBallroom\\nBanquet\\nConnecting rooms\\nSwimm...   \n",
       "86  AC\\nBallroom\\nBanquet\\nFamily room\\nNon-smokin...   \n",
       "87  AC\\nBallroom\\nBanquet\\nConnecting rooms\\nSwimm...   \n",
       "88  AC\\nBanquet\\nConnecting rooms\\nNon-smoking roo...   \n",
       "\n",
       "                                    things_to_do_list  \\\n",
       "0   Fitness center\\nHealth club\\nMassage\\nOutdoor ...   \n",
       "1   Fitness center\\nHealth club\\nIndoor pool\\nOutd...   \n",
       "2                        Fitness center\\nOutdoor pool   \n",
       "3                Fitness center\\nGarden\\nOutdoor pool   \n",
       "4   Fitness center\\nHealth club\\nHot tub\\nIndoor h...   \n",
       "..                                                ...   \n",
       "84                                             Garden   \n",
       "85                                       Outdoor pool   \n",
       "86                                                NaN   \n",
       "87                       Fitness center\\nOutdoor pool   \n",
       "88                                                NaN   \n",
       "\n",
       "                                    accessibilty_list  \\\n",
       "0   Accessible bathroom\\nAccessible parking\\nRoll-...   \n",
       "1                                                 NaN   \n",
       "2   Disabled access friendly\\nAccessible bathroom\\...   \n",
       "3                            Disabled access friendly   \n",
       "4                                                 NaN   \n",
       "..                                                ...   \n",
       "84                              Wheelchair accessible   \n",
       "85  Disabled access friendly\\nAccessible bathroom\\...   \n",
       "86                                                NaN   \n",
       "87                              Wheelchair accessible   \n",
       "88                              Wheelchair accessible   \n",
       "\n",
       "                                    connectivity_list  \\\n",
       "0     INTERNATIONAL_CALL\\nFree WiFi\\nWiFi (surcharge)   \n",
       "1                                           Free WiFi   \n",
       "2   INTERNATIONAL_CALL\\nLAN Internet (surcharge)\\n...   \n",
       "3                                                 NaN   \n",
       "4                                           Free WiFi   \n",
       "..                                                ...   \n",
       "84                                          Free WiFi   \n",
       "85                                          Free WiFi   \n",
       "86                                          Free WiFi   \n",
       "87                            LAN Internet\\nFree WiFi   \n",
       "88                                          Free WiFi   \n",
       "\n",
       "                                  transportation_list  \\\n",
       "0               Car rental\\nValet parking (surcharge)   \n",
       "1                       Secure parking\\nValet parking   \n",
       "2   Area shuttle\\nParking with surcharge\\nSecure p...   \n",
       "3                                          Car rental   \n",
       "4   Airport transfer\\nCar rental\\nSecure parking\\n...   \n",
       "..                                                ...   \n",
       "84                       Airport transfer\\nCar rental   \n",
       "85  Airport transfer\\nCar rental\\nLimo or town car...   \n",
       "86                                                NaN   \n",
       "87          Car rental\\nSecure parking\\nValet parking   \n",
       "88                                                NaN   \n",
       "\n",
       "                                   kids_and_pets_list  \\\n",
       "0                                   CRIBS\\nHighchairs   \n",
       "1                                               CRIBS   \n",
       "2                                         Babysitting   \n",
       "3                                                 NaN   \n",
       "4   CRIBS\\nHighchairs\\nFamily-friendly Facilities\\...   \n",
       "..                                                ...   \n",
       "84                                                NaN   \n",
       "85                                                NaN   \n",
       "86                                                NaN   \n",
       "87                                                NaN   \n",
       "88                                                NaN   \n",
       "\n",
       "   sports_and_recreations_list          shuttle_service_list  \\\n",
       "0               Fitness center  Airport transfer (surcharge)   \n",
       "1               Fitness center                           NaN   \n",
       "2               Fitness center  Airport transfer (surcharge)   \n",
       "3                     Billiard                           NaN   \n",
       "4               Fitness center  Airport transfer (surcharge)   \n",
       "..                         ...                           ...   \n",
       "84                         NaN              Airport transfer   \n",
       "85                         NaN  Airport transfer (surcharge)   \n",
       "86                         NaN                           NaN   \n",
       "87              Fitness center  Airport transfer (surcharge)   \n",
       "88                         NaN  Airport transfer (surcharge)   \n",
       "\n",
       "                                          description  \n",
       "0   This Hotel offers ultimate comfort and luxury....  \n",
       "1   This Hotel offers ultimate comfort and luxury....  \n",
       "2   This Hotel offers ultimate comfort and luxury....  \n",
       "3   This Hotel offers ultimate comfort and luxury....  \n",
       "4   This Hotel offers ultimate comfort and luxury....  \n",
       "..                                                ...  \n",
       "84  This Hotel offers ultimate comfort and luxury....  \n",
       "85  This Hotel offers ultimate comfort and luxury....  \n",
       "86  This Hotel offers ultimate comfort and luxury....  \n",
       "87  This Hotel offers ultimate comfort and luxury....  \n",
       "88  This Hotel offers ultimate comfort and luxury....  \n",
       "\n",
       "[89 rows x 23 columns]"
      ]
     },
     "execution_count": 55,
     "metadata": {},
     "output_type": "execute_result"
    }
   ],
   "source": [
    "df"
   ]
  },
  {
   "cell_type": "code",
   "execution_count": null,
   "metadata": {},
   "outputs": [],
   "source": [
    "df_cp.columns"
   ]
  },
  {
   "cell_type": "code",
   "execution_count": null,
   "metadata": {},
   "outputs": [],
   "source": [
    "df_cp.to_csv(\"Data API.csv\")"
   ]
  },
  {
   "cell_type": "code",
   "execution_count": null,
   "metadata": {},
   "outputs": [],
   "source": [
    "contoh = pd.read_csv('Data API.csv')"
   ]
  },
  {
   "cell_type": "code",
   "execution_count": null,
   "metadata": {},
   "outputs": [],
   "source": [
    "contoh.head()"
   ]
  },
  {
   "cell_type": "code",
   "execution_count": 58,
   "metadata": {
    "id": "-tIN42w0mZR2"
   },
   "outputs": [],
   "source": [
    "facilities_columns = ['Food and Drinks','Hotel Services','In-room Facilities', 'Business Facilities', 'Nearby Facilities', 'Public Facilities', 'General', 'Things to Do', 'Accessibilty', 'Connectivity', 'Transportation', 'Kids and Pets', 'Sports and Recreations', 'Shuttle Service']\n",
    "\n",
    "facilities_columns.reverse()\n",
    "\n",
    "for index , row in df.iterrows():\n",
    "    \n",
    "    # split per fasil and akomod\n",
    "    arr = row['facil_+_akomod'].splitlines() \n",
    "    arr = [ar for ar in arr if ar != '']\n",
    "    #iterate over fasil and akomod\n",
    "\n",
    "    i = 0\n",
    "    count = 0\n",
    "\n",
    "    for  item in reversed(arr):\n",
    "      count += 1\n",
    "      if item in facilities_columns:\n",
    "        df.at[index,item ] = count-1\n",
    "        count = 0\n",
    "        i += 1"
   ]
  },
  {
   "cell_type": "code",
   "execution_count": 59,
   "metadata": {},
   "outputs": [
    {
     "data": {
      "text/html": [
       "<div>\n",
       "<style scoped>\n",
       "    .dataframe tbody tr th:only-of-type {\n",
       "        vertical-align: middle;\n",
       "    }\n",
       "\n",
       "    .dataframe tbody tr th {\n",
       "        vertical-align: top;\n",
       "    }\n",
       "\n",
       "    .dataframe thead th {\n",
       "        text-align: right;\n",
       "    }\n",
       "</style>\n",
       "<table border=\"1\" class=\"dataframe\">\n",
       "  <thead>\n",
       "    <tr style=\"text-align: right;\">\n",
       "      <th></th>\n",
       "      <th>id</th>\n",
       "      <th>hotel</th>\n",
       "      <th>star</th>\n",
       "      <th>rating</th>\n",
       "      <th>reviews</th>\n",
       "      <th>harga</th>\n",
       "      <th>places_nearby</th>\n",
       "      <th>facil_+_akomod</th>\n",
       "      <th>food_and_drinks_list</th>\n",
       "      <th>hotel_services_list</th>\n",
       "      <th>...</th>\n",
       "      <th>Connectivity</th>\n",
       "      <th>Accessibilty</th>\n",
       "      <th>Things to Do</th>\n",
       "      <th>General</th>\n",
       "      <th>Public Facilities</th>\n",
       "      <th>Nearby Facilities</th>\n",
       "      <th>Business Facilities</th>\n",
       "      <th>In-room Facilities</th>\n",
       "      <th>Hotel Services</th>\n",
       "      <th>Food and Drinks</th>\n",
       "    </tr>\n",
       "  </thead>\n",
       "  <tbody>\n",
       "    <tr>\n",
       "      <th>0</th>\n",
       "      <td>0</td>\n",
       "      <td>Hotel Indonesia Kempinski Jakarta</td>\n",
       "      <td>5.0</td>\n",
       "      <td>8.9</td>\n",
       "      <td>4363</td>\n",
       "      <td>2.480.500</td>\n",
       "      <td>Nearby Places\\n\\nJia Jia - Grand Indonesia (De...</td>\n",
       "      <td>Food and Drinks\\nA la carte breakfast\\nA la ca...</td>\n",
       "      <td>A la carte breakfast\\nA la carte dinner\\nA la ...</td>\n",
       "      <td>Bellhop\\nConcierge\\nDoorman\\nExpress check-in\\...</td>\n",
       "      <td>...</td>\n",
       "      <td>3.0</td>\n",
       "      <td>4.0</td>\n",
       "      <td>6.0</td>\n",
       "      <td>7.0</td>\n",
       "      <td>8.0</td>\n",
       "      <td>8.0</td>\n",
       "      <td>8.0</td>\n",
       "      <td>10.0</td>\n",
       "      <td>12.0</td>\n",
       "      <td>24.0</td>\n",
       "    </tr>\n",
       "    <tr>\n",
       "      <th>1</th>\n",
       "      <td>1</td>\n",
       "      <td>The Langham, Jakarta</td>\n",
       "      <td>5.0</td>\n",
       "      <td>8.8</td>\n",
       "      <td>238</td>\n",
       "      <td>3.823.600</td>\n",
       "      <td>Nearby Places\\n\\nPig Me Up! - Ashta District 8...</td>\n",
       "      <td>Food and Drinks\\nA la carte dinner\\nA la carte...</td>\n",
       "      <td>A la carte dinner\\nA la carte lunch\\nBar\\nBrea...</td>\n",
       "      <td>Bellhop\\nConcierge\\nDoorman\\nFront desk\\n24-ho...</td>\n",
       "      <td>...</td>\n",
       "      <td>1.0</td>\n",
       "      <td>NaN</td>\n",
       "      <td>8.0</td>\n",
       "      <td>5.0</td>\n",
       "      <td>9.0</td>\n",
       "      <td>6.0</td>\n",
       "      <td>5.0</td>\n",
       "      <td>11.0</td>\n",
       "      <td>10.0</td>\n",
       "      <td>12.0</td>\n",
       "    </tr>\n",
       "    <tr>\n",
       "      <th>2</th>\n",
       "      <td>2</td>\n",
       "      <td>Manhattan Hotel</td>\n",
       "      <td>5.0</td>\n",
       "      <td>8.5</td>\n",
       "      <td>8405</td>\n",
       "      <td>6.231.500</td>\n",
       "      <td>Nearby Places\\n\\nJia Jia - Grand Indonesia (De...</td>\n",
       "      <td>Hotel Services\\nBellhop\\nConcierge\\nMoney chan...</td>\n",
       "      <td>A la carte dinner\\nA la carte lunch\\nRestauran...</td>\n",
       "      <td>Bellhop\\nConcierge\\nMoney changer\\nDoorman\\nEa...</td>\n",
       "      <td>...</td>\n",
       "      <td>4.0</td>\n",
       "      <td>6.0</td>\n",
       "      <td>2.0</td>\n",
       "      <td>8.0</td>\n",
       "      <td>14.0</td>\n",
       "      <td>8.0</td>\n",
       "      <td>10.0</td>\n",
       "      <td>11.0</td>\n",
       "      <td>18.0</td>\n",
       "      <td>14.0</td>\n",
       "    </tr>\n",
       "    <tr>\n",
       "      <th>3</th>\n",
       "      <td>3</td>\n",
       "      <td>Aloft South Jakarta</td>\n",
       "      <td>4.0</td>\n",
       "      <td>8.9</td>\n",
       "      <td>424</td>\n",
       "      <td>762.3</td>\n",
       "      <td>Nearby Places\\n\\nSouthside Rooftop Bar &amp; Loung...</td>\n",
       "      <td>Public Facilities\\nParking\\nCoffee shop\\nEleva...</td>\n",
       "      <td>Bar\\nPoolside bar\\nBar</td>\n",
       "      <td>24-hour Receptionist\\nLaundry service\\nLuggage...</td>\n",
       "      <td>...</td>\n",
       "      <td>NaN</td>\n",
       "      <td>1.0</td>\n",
       "      <td>3.0</td>\n",
       "      <td>NaN</td>\n",
       "      <td>7.0</td>\n",
       "      <td>NaN</td>\n",
       "      <td>1.0</td>\n",
       "      <td>NaN</td>\n",
       "      <td>3.0</td>\n",
       "      <td>3.0</td>\n",
       "    </tr>\n",
       "    <tr>\n",
       "      <th>4</th>\n",
       "      <td>4</td>\n",
       "      <td>The Mayflower, Jakarta - Marriott Executive Ap...</td>\n",
       "      <td>5.0</td>\n",
       "      <td>9.0</td>\n",
       "      <td>393</td>\n",
       "      <td>1.756.254</td>\n",
       "      <td>Nearby Places\\n\\nSudirman Plaza\\nBusiness\\n2 m...</td>\n",
       "      <td>Food and Drinks\\nA la carte breakfast\\nA la ca...</td>\n",
       "      <td>A la carte breakfast\\nA la carte dinner\\nA la ...</td>\n",
       "      <td>Welcoming drinks\\nConcierge\\nMoney changer\\nDo...</td>\n",
       "      <td>...</td>\n",
       "      <td>1.0</td>\n",
       "      <td>NaN</td>\n",
       "      <td>10.0</td>\n",
       "      <td>6.0</td>\n",
       "      <td>11.0</td>\n",
       "      <td>4.0</td>\n",
       "      <td>2.0</td>\n",
       "      <td>14.0</td>\n",
       "      <td>13.0</td>\n",
       "      <td>17.0</td>\n",
       "    </tr>\n",
       "  </tbody>\n",
       "</table>\n",
       "<p>5 rows × 37 columns</p>\n",
       "</div>"
      ],
      "text/plain": [
       "   id                                              hotel  star  rating  \\\n",
       "0   0                  Hotel Indonesia Kempinski Jakarta   5.0     8.9   \n",
       "1   1                               The Langham, Jakarta   5.0     8.8   \n",
       "2   2                                    Manhattan Hotel   5.0     8.5   \n",
       "3   3                                Aloft South Jakarta   4.0     8.9   \n",
       "4   4  The Mayflower, Jakarta - Marriott Executive Ap...   5.0     9.0   \n",
       "\n",
       "  reviews      harga                                      places_nearby  \\\n",
       "0    4363  2.480.500  Nearby Places\\n\\nJia Jia - Grand Indonesia (De...   \n",
       "1     238  3.823.600  Nearby Places\\n\\nPig Me Up! - Ashta District 8...   \n",
       "2    8405  6.231.500  Nearby Places\\n\\nJia Jia - Grand Indonesia (De...   \n",
       "3     424      762.3  Nearby Places\\n\\nSouthside Rooftop Bar & Loung...   \n",
       "4     393  1.756.254  Nearby Places\\n\\nSudirman Plaza\\nBusiness\\n2 m...   \n",
       "\n",
       "                                      facil_+_akomod  \\\n",
       "0  Food and Drinks\\nA la carte breakfast\\nA la ca...   \n",
       "1  Food and Drinks\\nA la carte dinner\\nA la carte...   \n",
       "2  Hotel Services\\nBellhop\\nConcierge\\nMoney chan...   \n",
       "3  Public Facilities\\nParking\\nCoffee shop\\nEleva...   \n",
       "4  Food and Drinks\\nA la carte breakfast\\nA la ca...   \n",
       "\n",
       "                                food_and_drinks_list  \\\n",
       "0  A la carte breakfast\\nA la carte dinner\\nA la ...   \n",
       "1  A la carte dinner\\nA la carte lunch\\nBar\\nBrea...   \n",
       "2  A la carte dinner\\nA la carte lunch\\nRestauran...   \n",
       "3                             Bar\\nPoolside bar\\nBar   \n",
       "4  A la carte breakfast\\nA la carte dinner\\nA la ...   \n",
       "\n",
       "                                 hotel_services_list  ... Connectivity  \\\n",
       "0  Bellhop\\nConcierge\\nDoorman\\nExpress check-in\\...  ...          3.0   \n",
       "1  Bellhop\\nConcierge\\nDoorman\\nFront desk\\n24-ho...  ...          1.0   \n",
       "2  Bellhop\\nConcierge\\nMoney changer\\nDoorman\\nEa...  ...          4.0   \n",
       "3  24-hour Receptionist\\nLaundry service\\nLuggage...  ...          NaN   \n",
       "4  Welcoming drinks\\nConcierge\\nMoney changer\\nDo...  ...          1.0   \n",
       "\n",
       "  Accessibilty Things to Do General Public Facilities Nearby Facilities  \\\n",
       "0          4.0          6.0     7.0               8.0               8.0   \n",
       "1          NaN          8.0     5.0               9.0               6.0   \n",
       "2          6.0          2.0     8.0              14.0               8.0   \n",
       "3          1.0          3.0     NaN               7.0               NaN   \n",
       "4          NaN         10.0     6.0              11.0               4.0   \n",
       "\n",
       "  Business Facilities In-room Facilities Hotel Services Food and Drinks  \n",
       "0                 8.0               10.0           12.0            24.0  \n",
       "1                 5.0               11.0           10.0            12.0  \n",
       "2                10.0               11.0           18.0            14.0  \n",
       "3                 1.0                NaN            3.0             3.0  \n",
       "4                 2.0               14.0           13.0            17.0  \n",
       "\n",
       "[5 rows x 37 columns]"
      ]
     },
     "execution_count": 59,
     "metadata": {},
     "output_type": "execute_result"
    }
   ],
   "source": [
    "df.head()"
   ]
  },
  {
   "cell_type": "code",
   "execution_count": 60,
   "metadata": {
    "id": "PkIBhvf2mcVH"
   },
   "outputs": [],
   "source": [
    "df = df.fillna(0)"
   ]
  },
  {
   "cell_type": "code",
   "execution_count": 62,
   "metadata": {
    "colab": {
     "base_uri": "https://localhost:8080/"
    },
    "id": "E7lgszlLmdpg",
    "outputId": "2a4fc79b-1270-42cd-cab3-4d339f084fa2"
   },
   "outputs": [],
   "source": [
    "for index , row in df.iterrows():\n",
    "    \n",
    "    # split per fasil and akomod\n",
    "    arr = row['places_nearby'].splitlines() \n",
    "    \n",
    "    #iterate over fasil and akomod\n",
    "\n",
    "    i = 0\n",
    "    count = 0\n",
    "    \n",
    "    for ind, item in enumerate(arr):\n",
    "        itemsplits = item.split()\n",
    "        for x in itemsplits:\n",
    "            if x.isdigit():\n",
    "                if itemsplits[1] == \"km\":\n",
    "                    meters = itemsplits[0] * 1000\n",
    "                else:\n",
    "                    meters = itemsplits[0]\n",
    "                    \n",
    "                if meters.isdigit():\n",
    "                    df.at[index,arr[ind-1]] = meters\n",
    "                    #print(meters)"
   ]
  },
  {
   "cell_type": "code",
   "execution_count": 63,
   "metadata": {
    "colab": {
     "base_uri": "https://localhost:8080/"
    },
    "id": "0a19mEMJmgNT",
    "outputId": "54437618-c147-47ea-90a4-637414f7369a"
   },
   "outputs": [
    {
     "name": "stdout",
     "output_type": "stream",
     "text": [
      "Index(['id', 'hotel', 'star', 'rating', 'reviews', 'harga', 'places_nearby',\n",
      "       'facil_+_akomod', 'food_and_drinks_list', 'hotel_services_list',\n",
      "       'in-room_facilities_list', 'business_facilities_list',\n",
      "       'nearby_facilities_list', 'public_facilities_list', 'general_list',\n",
      "       'things_to_do_list', 'accessibilty_list', 'connectivity_list',\n",
      "       'transportation_list', 'kids_and_pets_list',\n",
      "       'sports_and_recreations_list', 'shuttle_service_list', 'description',\n",
      "       'Shuttle Service', 'Sports and Recreations', 'Kids and Pets',\n",
      "       'Transportation', 'Connectivity', 'Accessibilty', 'Things to Do',\n",
      "       'General', 'Public Facilities', 'Nearby Facilities',\n",
      "       'Business Facilities', 'In-room Facilities', 'Hotel Services',\n",
      "       'Food and Drinks', 'Fast Food', 'Shop & Gifts', 'Business',\n",
      "       'Transportation Hub', 'Casual Dining', 'Nightlife', 'Park & Zoo',\n",
      "       'Public Service', 'Arts & Sciences', 'Fine Dining', 'Sport',\n",
      "       'Quick Bites', 'Education', 'Street Food', 'Activity & Games', 'Cafe',\n",
      "       'Entertainment', 'Food Court', 'Sight & Landmark'],\n",
      "      dtype='object')\n"
     ]
    }
   ],
   "source": [
    "print(df.columns)"
   ]
  },
  {
   "cell_type": "code",
   "execution_count": 65,
   "metadata": {
    "id": "fhrIjOXUmjhx"
   },
   "outputs": [],
   "source": [
    "df.harga = df['harga'].str.replace('.','', regex = True)\n",
    "df.harga = df['harga'].str.replace(',','.', regex = True)\n",
    "df.harga = df['harga'].astype(float).astype(int)\n",
    "\n",
    "df.reviews = df['reviews'].str.replace('.','', regex = True)\n",
    "df.reviews = df['reviews'].str.replace(',','.', regex = True)\n",
    "df.reviews = df['reviews'].astype(float).astype(int)"
   ]
  },
  {
   "cell_type": "code",
   "execution_count": 66,
   "metadata": {
    "id": "H5cIX6j_mlqG"
   },
   "outputs": [],
   "source": [
    "df = df.fillna(10000)"
   ]
  },
  {
   "cell_type": "code",
   "execution_count": 67,
   "metadata": {
    "id": "gQpazzsmmnFg"
   },
   "outputs": [],
   "source": [
    "c = df.select_dtypes(object).columns\n",
    "df[c] = df[c].apply(pd.to_numeric,errors='coerce')"
   ]
  },
  {
   "cell_type": "code",
   "execution_count": 68,
   "metadata": {
    "colab": {
     "base_uri": "https://localhost:8080/"
    },
    "id": "JgQonygumo0g",
    "outputId": "e70c338d-de92-4b66-9999-0a559448186e"
   },
   "outputs": [
    {
     "data": {
      "text/plain": [
       "id                               int64\n",
       "hotel                          float64\n",
       "star                           float64\n",
       "rating                         float64\n",
       "reviews                          int32\n",
       "harga                            int32\n",
       "places_nearby                  float64\n",
       "facil_+_akomod                 float64\n",
       "food_and_drinks_list           float64\n",
       "hotel_services_list            float64\n",
       "in-room_facilities_list        float64\n",
       "business_facilities_list       float64\n",
       "nearby_facilities_list         float64\n",
       "public_facilities_list         float64\n",
       "general_list                   float64\n",
       "things_to_do_list              float64\n",
       "accessibilty_list              float64\n",
       "connectivity_list              float64\n",
       "transportation_list            float64\n",
       "kids_and_pets_list             float64\n",
       "sports_and_recreations_list    float64\n",
       "shuttle_service_list           float64\n",
       "description                    float64\n",
       "Shuttle Service                float64\n",
       "Sports and Recreations         float64\n",
       "Kids and Pets                  float64\n",
       "Transportation                 float64\n",
       "Connectivity                   float64\n",
       "Accessibilty                   float64\n",
       "Things to Do                   float64\n",
       "General                        float64\n",
       "Public Facilities              float64\n",
       "Nearby Facilities              float64\n",
       "Business Facilities            float64\n",
       "In-room Facilities             float64\n",
       "Hotel Services                 float64\n",
       "Food and Drinks                float64\n",
       "Fast Food                        int64\n",
       "Shop & Gifts                     int64\n",
       "Business                         int64\n",
       "Transportation Hub               int64\n",
       "Casual Dining                    int64\n",
       "Nightlife                        int64\n",
       "Park & Zoo                       int64\n",
       "Public Service                   int64\n",
       "Arts & Sciences                  int64\n",
       "Fine Dining                      int64\n",
       "Sport                            int64\n",
       "Quick Bites                      int64\n",
       "Education                        int64\n",
       "Street Food                      int64\n",
       "Activity & Games                 int64\n",
       "Cafe                             int64\n",
       "Entertainment                    int64\n",
       "Food Court                       int64\n",
       "Sight & Landmark                 int64\n",
       "dtype: object"
      ]
     },
     "execution_count": 68,
     "metadata": {},
     "output_type": "execute_result"
    }
   ],
   "source": [
    "df.dtypes"
   ]
  },
  {
   "cell_type": "code",
   "execution_count": 69,
   "metadata": {
    "colab": {
     "base_uri": "https://localhost:8080/",
     "height": 314
    },
    "id": "YB-E4YjkmrTA",
    "outputId": "ab544a88-7932-43fa-b83b-ae495c884e79"
   },
   "outputs": [
    {
     "data": {
      "text/html": [
       "<div>\n",
       "<style scoped>\n",
       "    .dataframe tbody tr th:only-of-type {\n",
       "        vertical-align: middle;\n",
       "    }\n",
       "\n",
       "    .dataframe tbody tr th {\n",
       "        vertical-align: top;\n",
       "    }\n",
       "\n",
       "    .dataframe thead th {\n",
       "        text-align: right;\n",
       "    }\n",
       "</style>\n",
       "<table border=\"1\" class=\"dataframe\">\n",
       "  <thead>\n",
       "    <tr style=\"text-align: right;\">\n",
       "      <th></th>\n",
       "      <th>id</th>\n",
       "      <th>hotel</th>\n",
       "      <th>star</th>\n",
       "      <th>rating</th>\n",
       "      <th>reviews</th>\n",
       "      <th>harga</th>\n",
       "      <th>places_nearby</th>\n",
       "      <th>facil_+_akomod</th>\n",
       "      <th>food_and_drinks_list</th>\n",
       "      <th>hotel_services_list</th>\n",
       "      <th>...</th>\n",
       "      <th>Fine Dining</th>\n",
       "      <th>Sport</th>\n",
       "      <th>Quick Bites</th>\n",
       "      <th>Education</th>\n",
       "      <th>Street Food</th>\n",
       "      <th>Activity &amp; Games</th>\n",
       "      <th>Cafe</th>\n",
       "      <th>Entertainment</th>\n",
       "      <th>Food Court</th>\n",
       "      <th>Sight &amp; Landmark</th>\n",
       "    </tr>\n",
       "  </thead>\n",
       "  <tbody>\n",
       "    <tr>\n",
       "      <th>0</th>\n",
       "      <td>0</td>\n",
       "      <td>NaN</td>\n",
       "      <td>5.0</td>\n",
       "      <td>8.9</td>\n",
       "      <td>4363</td>\n",
       "      <td>2480500</td>\n",
       "      <td>NaN</td>\n",
       "      <td>NaN</td>\n",
       "      <td>NaN</td>\n",
       "      <td>NaN</td>\n",
       "      <td>...</td>\n",
       "      <td>10000</td>\n",
       "      <td>10000</td>\n",
       "      <td>10000</td>\n",
       "      <td>10000</td>\n",
       "      <td>10000</td>\n",
       "      <td>10000</td>\n",
       "      <td>10000</td>\n",
       "      <td>10000</td>\n",
       "      <td>10000</td>\n",
       "      <td>10000</td>\n",
       "    </tr>\n",
       "    <tr>\n",
       "      <th>1</th>\n",
       "      <td>1</td>\n",
       "      <td>NaN</td>\n",
       "      <td>5.0</td>\n",
       "      <td>8.8</td>\n",
       "      <td>238</td>\n",
       "      <td>3823600</td>\n",
       "      <td>NaN</td>\n",
       "      <td>NaN</td>\n",
       "      <td>NaN</td>\n",
       "      <td>NaN</td>\n",
       "      <td>...</td>\n",
       "      <td>10000</td>\n",
       "      <td>10000</td>\n",
       "      <td>10000</td>\n",
       "      <td>10000</td>\n",
       "      <td>10000</td>\n",
       "      <td>10000</td>\n",
       "      <td>10000</td>\n",
       "      <td>10000</td>\n",
       "      <td>10000</td>\n",
       "      <td>10000</td>\n",
       "    </tr>\n",
       "    <tr>\n",
       "      <th>2</th>\n",
       "      <td>2</td>\n",
       "      <td>NaN</td>\n",
       "      <td>5.0</td>\n",
       "      <td>8.5</td>\n",
       "      <td>8405</td>\n",
       "      <td>6231500</td>\n",
       "      <td>NaN</td>\n",
       "      <td>NaN</td>\n",
       "      <td>NaN</td>\n",
       "      <td>NaN</td>\n",
       "      <td>...</td>\n",
       "      <td>10000</td>\n",
       "      <td>10000</td>\n",
       "      <td>10000</td>\n",
       "      <td>10000</td>\n",
       "      <td>10000</td>\n",
       "      <td>10000</td>\n",
       "      <td>10000</td>\n",
       "      <td>10000</td>\n",
       "      <td>10000</td>\n",
       "      <td>10000</td>\n",
       "    </tr>\n",
       "    <tr>\n",
       "      <th>3</th>\n",
       "      <td>3</td>\n",
       "      <td>NaN</td>\n",
       "      <td>4.0</td>\n",
       "      <td>8.9</td>\n",
       "      <td>424</td>\n",
       "      <td>7623</td>\n",
       "      <td>NaN</td>\n",
       "      <td>NaN</td>\n",
       "      <td>NaN</td>\n",
       "      <td>NaN</td>\n",
       "      <td>...</td>\n",
       "      <td>10000</td>\n",
       "      <td>10000</td>\n",
       "      <td>10000</td>\n",
       "      <td>10000</td>\n",
       "      <td>10000</td>\n",
       "      <td>10000</td>\n",
       "      <td>10000</td>\n",
       "      <td>10000</td>\n",
       "      <td>10000</td>\n",
       "      <td>10000</td>\n",
       "    </tr>\n",
       "    <tr>\n",
       "      <th>4</th>\n",
       "      <td>4</td>\n",
       "      <td>NaN</td>\n",
       "      <td>5.0</td>\n",
       "      <td>9.0</td>\n",
       "      <td>393</td>\n",
       "      <td>1756254</td>\n",
       "      <td>NaN</td>\n",
       "      <td>NaN</td>\n",
       "      <td>NaN</td>\n",
       "      <td>NaN</td>\n",
       "      <td>...</td>\n",
       "      <td>10000</td>\n",
       "      <td>10000</td>\n",
       "      <td>10000</td>\n",
       "      <td>10000</td>\n",
       "      <td>10000</td>\n",
       "      <td>10000</td>\n",
       "      <td>10000</td>\n",
       "      <td>10000</td>\n",
       "      <td>10000</td>\n",
       "      <td>10000</td>\n",
       "    </tr>\n",
       "  </tbody>\n",
       "</table>\n",
       "<p>5 rows × 56 columns</p>\n",
       "</div>"
      ],
      "text/plain": [
       "   id  hotel  star  rating  reviews    harga  places_nearby  facil_+_akomod  \\\n",
       "0   0    NaN   5.0     8.9     4363  2480500            NaN             NaN   \n",
       "1   1    NaN   5.0     8.8      238  3823600            NaN             NaN   \n",
       "2   2    NaN   5.0     8.5     8405  6231500            NaN             NaN   \n",
       "3   3    NaN   4.0     8.9      424     7623            NaN             NaN   \n",
       "4   4    NaN   5.0     9.0      393  1756254            NaN             NaN   \n",
       "\n",
       "   food_and_drinks_list  hotel_services_list  ...  Fine Dining  Sport  \\\n",
       "0                   NaN                  NaN  ...        10000  10000   \n",
       "1                   NaN                  NaN  ...        10000  10000   \n",
       "2                   NaN                  NaN  ...        10000  10000   \n",
       "3                   NaN                  NaN  ...        10000  10000   \n",
       "4                   NaN                  NaN  ...        10000  10000   \n",
       "\n",
       "   Quick Bites  Education  Street Food  Activity & Games   Cafe  \\\n",
       "0        10000      10000        10000             10000  10000   \n",
       "1        10000      10000        10000             10000  10000   \n",
       "2        10000      10000        10000             10000  10000   \n",
       "3        10000      10000        10000             10000  10000   \n",
       "4        10000      10000        10000             10000  10000   \n",
       "\n",
       "   Entertainment  Food Court  Sight & Landmark  \n",
       "0          10000       10000             10000  \n",
       "1          10000       10000             10000  \n",
       "2          10000       10000             10000  \n",
       "3          10000       10000             10000  \n",
       "4          10000       10000             10000  \n",
       "\n",
       "[5 rows x 56 columns]"
      ]
     },
     "execution_count": 69,
     "metadata": {},
     "output_type": "execute_result"
    }
   ],
   "source": [
    "df.head()"
   ]
  },
  {
   "cell_type": "markdown",
   "metadata": {
    "id": "0-CevXm2Q6i1"
   },
   "source": [
    "# Modelling"
   ]
  },
  {
   "cell_type": "markdown",
   "metadata": {
    "id": "k0A8fICUnIbP"
   },
   "source": [
    "## Declare feature vector and target variable"
   ]
  },
  {
   "cell_type": "code",
   "execution_count": null,
   "metadata": {
    "colab": {
     "base_uri": "https://localhost:8080/"
    },
    "id": "Wel8athlnWNU",
    "outputId": "402eb9a8-11c0-4672-9c55-b0042af60a9b"
   },
   "outputs": [],
   "source": [
    "# view summary of dataset\n",
    "df.info()"
   ]
  },
  {
   "cell_type": "markdown",
   "metadata": {
    "id": "jSayjhlNQ_9g"
   },
   "source": [
    "## Data Splitting"
   ]
  },
  {
   "cell_type": "code",
   "execution_count": null,
   "metadata": {
    "id": "lmVSKP7YnH-k"
   },
   "outputs": [],
   "source": [
    "X = df[['Star','Reviews','Harga','Shuttle Service','Sports and Recreations', 'Kids and Pets', 'Transportation', 'Connectivity', 'Accessibilty', 'Things to Do', 'General', 'Public Facilities', 'Nearby Facilities', 'Business Facilities', 'In-room Facilities', 'Hotel Services', 'Food and Drinks', 'Fast Food', 'Shop & Gifts', 'Business', 'Transportation Hub', 'Casual Dining', 'Nightlife', 'Park & Zoo', 'Public Service', 'Arts & Sciences', 'Fine Dining', 'Sport', 'Quick Bites', 'Education', 'Street Food', 'Activity & Games', 'Cafe', 'Entertainment', 'Food Court', 'Sight & Landmark' ]]\n",
    "y = df['Rating']"
   ]
  },
  {
   "cell_type": "code",
   "execution_count": null,
   "metadata": {
    "id": "N1ATNg6motGV"
   },
   "outputs": [],
   "source": [
    "from sklearn.model_selection import train_test_split\n",
    "# X_train, X_test, y_train, y_test = train_test_split(X, y, test_size = 0.2, random_state = 0)\n",
    "dev_X, val_X, dev_y, val_y = train_test_split(X, y, test_size = 0.2, random_state = 0)"
   ]
  },
  {
   "cell_type": "markdown",
   "metadata": {
    "id": "ZB6D4jmvQ0XK"
   },
   "source": [
    "## Light GBM"
   ]
  },
  {
   "cell_type": "code",
   "execution_count": null,
   "metadata": {
    "id": "kHEqGXrQoxuJ"
   },
   "outputs": [],
   "source": [
    "#import lightgbm as lgb\n",
    "#clf = lgb.lambdarank()\n",
    "#clf.fit(X_train, y_train)\n",
    "\n",
    "def run_lgb(X_train, X_test, y_train, y_test):\n",
    "    params = {\n",
    "        \"objective\" : \"regression\",\n",
    "        \"metric\" : \"rmse\",\n",
    "        \"num_leaves\" : 40,\n",
    "        \"learning_rate\" : 0.004,\n",
    "        \"bagging_fraction\" : 0.6,\n",
    "        \"feature_fraction\" : 0.6,\n",
    "        \"bagging_frequency\" : 6,\n",
    "        \"bagging_seed\" : 42,\n",
    "        \"verbosity\" : -1,\n",
    "        \"seed\": 42\n",
    "    }\n",
    "    \n",
    "    lgtrain = lgb.Dataset(X, label=y)\n",
    "    lgval = lgb.Dataset(val_X, label=val_y)\n",
    "    evals_result = {}\n",
    "    model = lgb.train(params, lgtrain, 5000, \n",
    "                      valid_sets=[lgtrain, lgval], \n",
    "                      early_stopping_rounds=100, \n",
    "                      verbose_eval=150, \n",
    "                      evals_result=evals_result)\n",
    "    \n",
    "    #pred_test_y = np.expm1(model.predict(test_X, num_iteration=model.best_iteration))\n",
    "    return model, evals_result #pred_test_y"
   ]
  },
  {
   "cell_type": "code",
   "execution_count": null,
   "metadata": {
    "colab": {
     "base_uri": "https://localhost:8080/"
    },
    "id": "xRD3429DtQXg",
    "outputId": "8ce22738-2868-4d15-e6d8-e600fc8912a8"
   },
   "outputs": [],
   "source": [
    "model, evals_result = run_lgb(dev_X, dev_y, val_X, val_y)\n",
    "print(\"LightGBM Training Completed...\")"
   ]
  },
  {
   "cell_type": "code",
   "execution_count": null,
   "metadata": {
    "colab": {
     "base_uri": "https://localhost:8080/"
    },
    "id": "zgZvIH5VXlJk",
    "outputId": "99bdfcde-93a8-4014-a237-5aa62b37669d"
   },
   "outputs": [],
   "source": [
    "y_pred = model.predict(X)\n",
    "print(y_pred)"
   ]
  },
  {
   "cell_type": "code",
   "execution_count": null,
   "metadata": {
    "colab": {
     "base_uri": "https://localhost:8080/",
     "height": 53
    },
    "id": "JxUrFaVORP0o",
    "outputId": "5aa1d382-91fa-4e4d-f155-02023794e37b"
   },
   "outputs": [],
   "source": [
    "'''\n",
    "# feature importance\n",
    "print(\"Features Importance...\")\n",
    "gain = model.feature_importance('Rating')\n",
    "featureimp = pd.DataFrame({'Rating':model.feature_name(), \n",
    "                   'split':model.feature_importance('split'), \n",
    "                   'Rating':100 * gain / gain.sum()}).sort_values('Rating', ascending=False)\n",
    "print(featureimp[:50])\n",
    "'''"
   ]
  },
  {
   "cell_type": "markdown",
   "metadata": {
    "id": "MEiQ4uDssXiD"
   },
   "source": [
    "## XGBoost\n",
    "\n",
    "\n",
    "\n",
    "\n",
    "\n",
    "\n",
    "\n",
    "\n",
    "\n",
    "\n",
    "\n",
    "\n",
    "\n",
    "\n",
    "\n",
    "\n",
    "\n",
    "\n",
    "\n",
    "\n",
    "\n"
   ]
  },
  {
   "cell_type": "code",
   "execution_count": null,
   "metadata": {
    "id": "jPjhr5ldRK3z"
   },
   "outputs": [],
   "source": [
    "def run_xgb(train_X, train_y, val_X, val_y):\n",
    "    params = {'objective': 'reg:linear', \n",
    "          'eval_metric': 'rmse',\n",
    "          'eta': 0.001,\n",
    "          'max_depth': 10, \n",
    "          'subsample': 0.6, \n",
    "          'colsample_bytree': 0.6,\n",
    "          'alpha':0.001,\n",
    "          'random_state': 42, \n",
    "          'silent': True}\n",
    "    \n",
    "    tr_data = xgb.DMatrix(train_X, train_y)\n",
    "    va_data = xgb.DMatrix(val_X, val_y)\n",
    "    \n",
    "    watchlist = [(tr_data, 'train'), (va_data, 'valid')]\n",
    "    \n",
    "    model_xgb = xgb.train(params, tr_data, 2000, watchlist, maximize=False, early_stopping_rounds = 100, verbose_eval=100)\n",
    "    \n",
    "    #dtest = xgb.DMatrix(test_X)\n",
    "    #xgb_pred_y = np.expm1(model_xgb.predict(dtest, ntree_limit=model_xgb.best_ntree_limit))\n",
    "    \n",
    "    return  model_xgb #, xgb_pred_y,"
   ]
  },
  {
   "cell_type": "code",
   "execution_count": null,
   "metadata": {
    "colab": {
     "base_uri": "https://localhost:8080/"
    },
    "id": "sdWUpwQ6SJWu",
    "outputId": "acf58248-90d1-41b5-adaf-7a8d31b99e83"
   },
   "outputs": [],
   "source": [
    "# Training XGB\n",
    "model_xgb = run_xgb(dev_X, dev_y, val_X, val_y)\n",
    "print(\"XGB Training Completed...\")"
   ]
  },
  {
   "cell_type": "markdown",
   "metadata": {
    "id": "tph7rgkYSOjS"
   },
   "source": [
    "## Catboost"
   ]
  },
  {
   "cell_type": "code",
   "execution_count": null,
   "metadata": {
    "id": "gKXAe9bnSQtM"
   },
   "outputs": [],
   "source": [
    "cb_model = CatBoostRegressor(iterations=500,\n",
    "                             learning_rate=0.05,\n",
    "                             depth=10,\n",
    "                             eval_metric='RMSE',\n",
    "                             random_seed = 42,\n",
    "                             bagging_temperature = 0.2,\n",
    "                             od_type='Iter',\n",
    "                             metric_period = 50,\n",
    "                             od_wait=20)"
   ]
  },
  {
   "cell_type": "code",
   "execution_count": null,
   "metadata": {
    "colab": {
     "base_uri": "https://localhost:8080/"
    },
    "id": "l_sxznhvSlca",
    "outputId": "f07da1cc-b0e6-4487-cc09-7ce0b05b62e9"
   },
   "outputs": [],
   "source": [
    "cb_model.fit(dev_X, dev_y,\n",
    "             eval_set=(val_X, val_y),\n",
    "             use_best_model=True,\n",
    "             verbose=50)"
   ]
  },
  {
   "cell_type": "markdown",
   "metadata": {
    "colab": {
     "base_uri": "https://localhost:8080/"
    },
    "id": "E7czCy0dSsJo",
    "outputId": "4a2343e0-9b23-4cfa-d050-ed636562de41"
   },
   "source": [
    "pred_test_cat = np.expm1(cb_model.predict(X))\n",
    "print(pred_test_cat)"
   ]
  },
  {
   "cell_type": "markdown",
   "metadata": {
    "id": "BPfXvYFmSRsr"
   },
   "source": [
    "## Tensorflow Regression"
   ]
  },
  {
   "cell_type": "code",
   "execution_count": null,
   "metadata": {},
   "outputs": [],
   "source": [
    "df = df.drop(['Hotel', 'Places Nearby', 'Facil + Akomod'], axis=1)\n",
    "df"
   ]
  },
  {
   "cell_type": "code",
   "execution_count": null,
   "metadata": {},
   "outputs": [],
   "source": [
    "df2 = df\n",
    "df3 = df"
   ]
  },
  {
   "cell_type": "markdown",
   "metadata": {},
   "source": [
    "## Data Preparation"
   ]
  },
  {
   "cell_type": "code",
   "execution_count": null,
   "metadata": {},
   "outputs": [],
   "source": [
    "train_dataset = df.loc[:70]\n",
    "test_dataset = df.drop(train_dataset.index)\n",
    "\n",
    "train_features = train_dataset.copy()\n",
    "test_features = test_dataset.copy()\n",
    "\n",
    "train_labels = train_features.pop('Rating')\n",
    "test_labels = test_features.pop('Rating')"
   ]
  },
  {
   "cell_type": "code",
   "execution_count": null,
   "metadata": {},
   "outputs": [],
   "source": [
    "print(train_features.info)"
   ]
  },
  {
   "cell_type": "markdown",
   "metadata": {},
   "source": [
    "# TENSORFLOW PIPELINE"
   ]
  },
  {
   "cell_type": "code",
   "execution_count": null,
   "metadata": {},
   "outputs": [],
   "source": [
    "normalizer = tf.keras.layers.Normalization(axis=-1)\n",
    "normalizer.adapt(np.array(train_features))\n",
    "print(normalizer.mean.numpy())"
   ]
  },
  {
   "cell_type": "code",
   "execution_count": null,
   "metadata": {},
   "outputs": [],
   "source": [
    "regularizer = 0.000001\n",
    "dropout = 0\n",
    "schedul = -0.0001\n",
    "lr = 0.001"
   ]
  },
  {
   "cell_type": "code",
   "execution_count": null,
   "metadata": {},
   "outputs": [],
   "source": [
    "def mikro_model(norm):\n",
    "  \n",
    "    model = keras.Sequential([\n",
    "      norm,\n",
    "      layers.Dense(8, activation='relu', kernel_regularizer=regularizers.l2(regularizer) ),\n",
    "      layers.Dropout(dropout),\n",
    "      layers.Dense(8, activation='relu', kernel_regularizer=regularizers.l2(regularizer)),\n",
    "      layers.Dropout(dropout),\n",
    "      layers.Dense(1)\n",
    "      ])\n",
    "    \n",
    "    return model\n",
    "\n",
    "\n",
    "\n",
    "def small_model(norm):\n",
    "  \n",
    "    model = keras.Sequential([\n",
    "      norm,\n",
    "      layers.Dense(16, activation='relu', kernel_regularizer=regularizers.l2(regularizer) ),\n",
    "        layers.Dropout(dropout),\n",
    "      layers.Dense(16, activation='relu', kernel_regularizer=regularizers.l2(regularizer)),\n",
    "        layers.Dropout(dropout),\n",
    "      layers.Dense(1)\n",
    "      ])\n",
    "    \n",
    "    return model\n",
    "\n",
    "\n",
    "def medium_model(norm):\n",
    "  \n",
    "    model = keras.Sequential([\n",
    "      norm,\n",
    "      layers.Dense(64, activation='relu', kernel_regularizer=regularizers.l2(regularizer) ),\n",
    "      layers.Dropout(dropout),\n",
    "      layers.Dense(16, activation='relu', kernel_regularizer=regularizers.l2(regularizer) ),\n",
    "      layers.Dropout(dropout),\n",
    "      layers.Dense(1)\n",
    "      ])\n",
    "    \n",
    "    return model\n",
    "\n",
    "\n",
    "def large_model(norm):\n",
    "  \n",
    "    model = keras.Sequential([\n",
    "      norm,\n",
    "      layers.Dense(128, activation='relu', kernel_regularizer=regularizers.l2(regularizer)),\n",
    "        layers.Dropout(dropout),\n",
    "      layers.Dense(128, activation='relu', kernel_regularizer=regularizers.l2(regularizer)),\n",
    "        layers.Dropout(dropout),\n",
    "      layers.Dense(128, activation='relu', kernel_regularizer=regularizers.l2(regularizer)),\n",
    "        layers.Dropout(dropout),\n",
    "      layers.Dense(1)\n",
    "      ])\n",
    "    \n",
    "    return model\n",
    "\n",
    "def scale_model(norm):\n",
    "  \n",
    "    model = keras.Sequential([\n",
    "      norm,\n",
    "      layers.Dense(512, activation='relu', kernel_regularizer=regularizers.l2(regularizer)),\n",
    "        layers.Dropout(dropout),\n",
    "      layers.Dense(512, activation='relu', kernel_regularizer=regularizers.l2(regularizer)),\n",
    "        layers.Dropout(dropout),\n",
    "      layers.Dense(512, activation='relu', kernel_regularizer=regularizers.l2(regularizer)),\n",
    "        layers.Dropout(dropout),\n",
    "        layers.Dense(512, activation='relu', kernel_regularizer=regularizers.l2(regularizer)),\n",
    "        layers.Dropout(dropout),\n",
    "        layers.Dense(128, activation='relu', kernel_regularizer=regularizers.l2(regularizer)),\n",
    "        layers.Dropout(dropout),\n",
    "        layers.Dense(128, activation='relu', kernel_regularizer=regularizers.l2(regularizer)),\n",
    "        layers.Dropout(dropout),\n",
    "         layers.Dense(64, activation='relu', kernel_regularizer=regularizers.l2(regularizer)),\n",
    "        layers.Dropout(dropout),\n",
    "      layers.Dense(1)\n",
    "      ])\n",
    "    \n",
    "    return model"
   ]
  },
  {
   "cell_type": "markdown",
   "metadata": {},
   "source": [
    "## OPTIMIZER"
   ]
  },
  {
   "cell_type": "code",
   "execution_count": null,
   "metadata": {},
   "outputs": [],
   "source": [
    "optimizer2 = tf.optimizers.Adam(learning_rate=lr)"
   ]
  },
  {
   "cell_type": "markdown",
   "metadata": {},
   "source": [
    "## SCHEDULER"
   ]
  },
  {
   "cell_type": "code",
   "execution_count": null,
   "metadata": {},
   "outputs": [],
   "source": [
    "def scheduler(epoch, lr):\n",
    "  if epoch < 10:\n",
    "    return lr\n",
    "  else:\n",
    "    return lr * tf.math.exp(schedul)"
   ]
  },
  {
   "cell_type": "code",
   "execution_count": null,
   "metadata": {},
   "outputs": [],
   "source": [
    "def DNN_Pipeline (model):\n",
    "    \n",
    "    model.compile(optimizer= optimizer2, loss='mean_absolute_error')\n",
    "    \n",
    "    history = model.fit(\n",
    "    train_features,\n",
    "    train_labels,\n",
    "    validation_split=0.2,\n",
    "    callbacks = tf.keras.callbacks.LearningRateScheduler(scheduler),\n",
    "    verbose=0, epochs=100)\n",
    "    \n",
    "    hist = pd.DataFrame(history.history)\n",
    "    hist['epoch'] = history.epoch\n",
    "    \n",
    "    plt.plot(history.history['loss'], label='loss')\n",
    "    plt.plot(history.history['val_loss'], label='val_loss')\n",
    "    plt.ylim([0, 2])\n",
    "    plt.xlabel('Epoch')\n",
    "    plt.ylabel('Error [MPG]')\n",
    "    plt.legend()\n",
    "    plt.grid(True)\n",
    "    print(hist.tail(10))\n",
    "    \n",
    "    return model"
   ]
  },
  {
   "cell_type": "code",
   "execution_count": null,
   "metadata": {},
   "outputs": [],
   "source": [
    "small = DNN_Pipeline(small_model(normalizer))"
   ]
  },
  {
   "cell_type": "code",
   "execution_count": null,
   "metadata": {},
   "outputs": [],
   "source": [
    "medium = DNN_Pipeline(medium_model(normalizer))"
   ]
  },
  {
   "cell_type": "code",
   "execution_count": null,
   "metadata": {},
   "outputs": [],
   "source": [
    "large = DNN_Pipeline(large_model(normalizer))"
   ]
  },
  {
   "cell_type": "code",
   "execution_count": null,
   "metadata": {},
   "outputs": [],
   "source": [
    "mikro = DNN_Pipeline(mikro_model(normalizer))"
   ]
  },
  {
   "cell_type": "code",
   "execution_count": null,
   "metadata": {},
   "outputs": [],
   "source": [
    "scale = DNN_Pipeline(scale_model(normalizer))"
   ]
  },
  {
   "cell_type": "code",
   "execution_count": null,
   "metadata": {},
   "outputs": [],
   "source": [
    "mikro_predict = mikro.predict(test_features)\n",
    "small_predict = small.predict(test_features)\n",
    "medium_predict = medium.predict(test_features)\n",
    "large_predict = large.predict(test_features)\n",
    "scale_predict = scale.predict(test_features)"
   ]
  },
  {
   "cell_type": "code",
   "execution_count": null,
   "metadata": {},
   "outputs": [],
   "source": [
    "mean_absolute_error(mikro_predict,test_labels)   "
   ]
  },
  {
   "cell_type": "code",
   "execution_count": null,
   "metadata": {},
   "outputs": [],
   "source": [
    "mean_absolute_error(small_predict,test_labels)   "
   ]
  },
  {
   "cell_type": "code",
   "execution_count": null,
   "metadata": {},
   "outputs": [],
   "source": [
    "mean_absolute_error(medium_predict,test_labels)   "
   ]
  },
  {
   "cell_type": "code",
   "execution_count": null,
   "metadata": {},
   "outputs": [],
   "source": [
    "mean_absolute_error(large_predict,test_labels)   "
   ]
  },
  {
   "cell_type": "code",
   "execution_count": null,
   "metadata": {},
   "outputs": [],
   "source": [
    "mean_absolute_error(scale_predict,test_labels)   "
   ]
  },
  {
   "cell_type": "code",
   "execution_count": null,
   "metadata": {},
   "outputs": [],
   "source": [
    "print(scale_predict)"
   ]
  },
  {
   "cell_type": "code",
   "execution_count": null,
   "metadata": {},
   "outputs": [],
   "source": [
    "print (test_labels)"
   ]
  },
  {
   "cell_type": "code",
   "execution_count": null,
   "metadata": {},
   "outputs": [],
   "source": [
    "print(medium.predict(train_features))"
   ]
  },
  {
   "cell_type": "markdown",
   "metadata": {},
   "source": [
    "# RANGKING WITH REGRESSION"
   ]
  },
  {
   "cell_type": "code",
   "execution_count": null,
   "metadata": {},
   "outputs": [],
   "source": [
    "a = []\n",
    "\n",
    "for x in range(1,90):\n",
    "    a.append(x)\n",
    "    \n",
    "print(a)\n",
    "\n",
    "df2 = df\n",
    "df2['Rank'] = a\n",
    "\n",
    "df2"
   ]
  },
  {
   "cell_type": "code",
   "execution_count": null,
   "metadata": {},
   "outputs": [],
   "source": [
    "train_dataset = df2.loc[:70]\n",
    "test_dataset = df2.drop(train_dataset.index)\n",
    "\n",
    "train_features = train_dataset.copy()\n",
    "test_features = test_dataset.copy()\n",
    "\n",
    "train_labels = train_features.pop('Rank')\n",
    "test_labels = test_features.pop('Rank')"
   ]
  },
  {
   "cell_type": "code",
   "execution_count": null,
   "metadata": {},
   "outputs": [],
   "source": [
    "normalizer2 = tf.keras.layers.Normalization(axis=-1)\n",
    "normalizer2.adapt(np.array(train_features))\n",
    "print(normalizer.mean.numpy())"
   ]
  },
  {
   "cell_type": "code",
   "execution_count": null,
   "metadata": {},
   "outputs": [],
   "source": [
    "large = DNN_Pipeline(large_model(normalizer2))\n"
   ]
  },
  {
   "cell_type": "code",
   "execution_count": null,
   "metadata": {},
   "outputs": [],
   "source": [
    "scale = DNN_Pipeline(scale_model(normalizer2))\n"
   ]
  },
  {
   "cell_type": "code",
   "execution_count": null,
   "metadata": {},
   "outputs": [],
   "source": [
    "medium = DNN_Pipeline(medium_model(normalizer2))"
   ]
  },
  {
   "cell_type": "code",
   "execution_count": null,
   "metadata": {},
   "outputs": [],
   "source": [
    "df_rank = test_dataset\n",
    "df_rank['score'] = medium.predict(test_features)\n",
    "df_rank"
   ]
  },
  {
   "cell_type": "code",
   "execution_count": null,
   "metadata": {},
   "outputs": [],
   "source": [
    "new_sorted = df_rank.sort_values(by=['score'])"
   ]
  },
  {
   "cell_type": "markdown",
   "metadata": {},
   "source": [
    "# RANk error per item (0 is perfect)"
   ]
  },
  {
   "cell_type": "code",
   "execution_count": null,
   "metadata": {},
   "outputs": [],
   "source": [
    "b = []\n",
    "\n",
    "for x in range (72,90):\n",
    "    b.append(x)\n",
    "\n",
    "    \n",
    "c = b-(new_sorted['Rank'])\n",
    "\n",
    "print (c)"
   ]
  },
  {
   "cell_type": "code",
   "execution_count": null,
   "metadata": {},
   "outputs": [],
   "source": [
    "print(df_rank.index)"
   ]
  },
  {
   "cell_type": "code",
   "execution_count": null,
   "metadata": {},
   "outputs": [],
   "source": [
    "test_labels"
   ]
  },
  {
   "cell_type": "markdown",
   "metadata": {},
   "source": [
    "## Rank Train Datasets"
   ]
  },
  {
   "cell_type": "code",
   "execution_count": null,
   "metadata": {},
   "outputs": [],
   "source": [
    "# Rank train datasets\n",
    "\n",
    "medium.predict(train_features)"
   ]
  },
  {
   "cell_type": "code",
   "execution_count": null,
   "metadata": {},
   "outputs": [],
   "source": [
    "df_rank = train_dataset\n",
    "df_rank['score'] = medium.predict(train_features)\n",
    "df_rank\n",
    "new_sorted2 = df_rank.sort_values(by=['score'])\n",
    "new_sorted2"
   ]
  },
  {
   "cell_type": "markdown",
   "metadata": {},
   "source": [
    "# RANk error per item (0 is perfect)"
   ]
  },
  {
   "cell_type": "code",
   "execution_count": null,
   "metadata": {},
   "outputs": [],
   "source": [
    "K = []\n",
    "\n",
    "for x in range (1,72):\n",
    "    K.append(x)\n",
    "\n",
    "    \n",
    "c = K-(new_sorted2['Rank'])\n",
    "\n",
    "for x in c:\n",
    "    print (x)"
   ]
  },
  {
   "cell_type": "markdown",
   "metadata": {},
   "source": [
    "## Export the model"
   ]
  },
  {
   "cell_type": "code",
   "execution_count": null,
   "metadata": {},
   "outputs": [],
   "source": [
    "medium.save('TestV1.h5')"
   ]
  }
 ],
 "metadata": {
  "colab": {
   "collapsed_sections": [
    "k0A8fICUnIbP",
    "jSayjhlNQ_9g",
    "BPfXvYFmSRsr"
   ],
   "name": "Capstone - Test  v2 (XGB, LGBM, CB)",
   "provenance": []
  },
  "kernelspec": {
   "display_name": "Python 3",
   "language": "python",
   "name": "python3"
  },
  "language_info": {
   "codemirror_mode": {
    "name": "ipython",
    "version": 3
   },
   "file_extension": ".py",
   "mimetype": "text/x-python",
   "name": "python",
   "nbconvert_exporter": "python",
   "pygments_lexer": "ipython3",
   "version": "3.8.8"
  }
 },
 "nbformat": 4,
 "nbformat_minor": 1
}
